{
 "cells": [
  {
   "cell_type": "code",
   "execution_count": 1,
   "metadata": {},
   "outputs": [
    {
     "data": {
      "text/html": [
       "<style>.container { width:100% !important; }</style>"
      ],
      "text/plain": [
       "<IPython.core.display.HTML object>"
      ]
     },
     "metadata": {},
     "output_type": "display_data"
    }
   ],
   "source": [
    "from IPython.core.display import display, HTML\n",
    "display(HTML(\"<style>.container { width:100% !important; }</style>\"))\n",
    "from math import exp\n",
    "import numpy as np\n",
    "import pandas as pd\n",
    "import matplotlib.pyplot as plt\n",
    "\n",
    "#The following allow direct FEniCS code into python scripts.\n",
    "\n",
    "def ln(input):\n",
    "    return np.log(input)\n",
    "\n",
    "def Constant(constant):\n",
    "    return constant"
   ]
  },
  {
   "cell_type": "code",
   "execution_count": 4,
   "metadata": {},
   "outputs": [],
   "source": [
    "epsmet = 0\n",
    "\n",
    "def Dubinin_Astakhov(p,t): #[kg/m3] Equilibrium Density of Adsorbed Gas\n",
    "    return rhoads_T(t)*Ws(epsmet)*exp(-pow((Rg * t * ln(Psat_YAWS_1999(t)/(p))/(E0_beta)),ads_ns))\n",
    "\n",
    "def Ws(epsmet):\n",
    "    return (1-epsTotal(epsmet))*ads_rho_bulk*ads_ws \n",
    "\n",
    "def rhoads_T(t): #Ps [mmHg] using the conversion 1 mmHg = 133.322Pa, \n",
    "    Psat_D = Constant(29.8605)\n",
    "    Psat_E = Constant(-3152.2)\n",
    "    Psat_F = Constant(-7.3037)\n",
    "    Psat_G = Constant(2.4247e-9)\n",
    "    Psat_H = Constant(1.8090e-6)\n",
    "    return 133.322*pow(10,(Psat_D + Psat_E / t + Psat_F*ln(t)/ln(10) + t*Psat_G + Psat_H*pow(t,2) ))  #133.332 Pa to 1 mmHg"
   ]
  },
  {
   "cell_type": "code",
   "execution_count": 5,
   "metadata": {},
   "outputs": [],
   "source": [
    "def Ambrozek(temp):\n",
    "    return .01 \n",
    "\n",
    "def Knudsen(t): #Also referred to as intercrystalline Diffusivity\n",
    "    eps = epsTotal(epsmet)    \n",
    "    dp = Constant(5.7e-7)  ##Characteristic void size, Mean pore diameter, [m],\n",
    "    Rw = 461.52 \n",
    "    return (dp/3)*pow(8*Rg*t/(3.14*vap_mg),1/2)\n",
    "\n",
    "def Narayanan(t): # Effective Vapor Intercrystalline Diffusivity (2014)\n",
    "    return  Constant(15)*Dc/pow(ads_rps,2)* exp(-Ea/(Rg*T0)*(1-t/T0))     \n",
    "\n",
    "def Vasiliev(t): #Vasiliev\n",
    "    return Constant(15) * Dc / pow(ads_rps,2) *exp(-Ea/(Rw*t)) \n",
    "\n",
    "def Mette(t,temp0,p,p0): #Mette \n",
    "    #Sp = 6/ads_dps\n",
    "    Qeq = Dubinin_Astakhov(p,t)\n",
    "    Qeq0 = Dubinin_Astakhov(p0,t0) \n",
    "    Pw0 = Rg*vap_mg*Qeq0*t #mbar\n",
    "    Pw = Rg*vap_mg*Qeq*t #mbar\n",
    "    Qeq = Dubinin_Astakhov(p,t)\n",
    "    Qeq0 = Dubinin_Astakhov(p0,t0) \n",
    "    dQeq = (Qeq - Qeq0)/ads_rho_bulk*1000 \n",
    "    dPw = (Pw - Pw0)\n",
    "    ads_dps = Constant(1e-6)\n",
    "    ads_tort = Constant(4)\n",
    "    mu = 4 #Tortuosity\n",
    "    eps = epsTotal(epsmet) # \n",
    "    Rw = 461.52 #[J/kg K]\n",
    "    Dm =  Constant(5e-15) #Macro Pore Diffusion Resistance, Superposition of molecular diffusion and gas diffusion\n",
    "    return 15/pow(ads_dps,2) *Dm  / ads_tort * eps/(ads_rho_crystal*Rw*t) * (1/(dQeq/dPw)) #\n"
   ]
  },
  {
   "cell_type": "code",
   "execution_count": 6,
   "metadata": {},
   "outputs": [],
   "source": [
    "patm = 101325 # Pa\n",
    "t = 298.15 # K\n",
    "p = Psat_YAWS_1999(t)\n",
    "\n",
    "# r = [kg adsorbate / adsorbant m3] \n",
    "relativePressure_list = np.linspace(.01,.5,100)\n",
    "#Relative Pressure = Partial Pressure H2O aka Vapor Pressure / Pressure Water Saturation\n",
    "\n",
    "#Po_list = [3.5,15,44,1830]\n",
    "\n",
    "temp_list = np.linspace(273.15, 373.15, 100)\n",
    "temp0_list = np.append([273.15],temp_list[:-1])\n",
    "\n",
    "G_Narayanan_list = []\n",
    "G_Mette_list = []\n",
    "G_Vasiliev_list = []\n",
    "G_Ambrozek_list = []\n",
    "G_Knudsen_list = []\n",
    "\n",
    "for i in range(0,len(temp_list)):\n",
    "    temp = temp_list[i]\n",
    "    temp0 = temp0_list[i]\n",
    "    G_Narayanan_list.append(Narayanan(temp))\n",
    "    G_Vasiliev_list.append(Vasiliev(temp))\n",
    "    G_Ambrozek_list.append(Ambrozek(temp))\n",
    "    #G_Mette_list.append(Mette(t,temp0,p))\n",
    "    G_Knudsen_list.append(Knudsen(temp))\n",
    "    "
   ]
  },
  {
   "cell_type": "code",
   "execution_count": 12,
   "metadata": {},
   "outputs": [
    {
     "data": {
      "image/png": "[encoded data removed]",
      "text/plain": [
       "<Figure size 864x576 with 1 Axes>"
      ]
     },
     "metadata": {
      "needs_background": "light"
     },
     "output_type": "display_data"
    }
   ],
   "source": [
    "\n",
    "import matplotlib.pyplot as plt\n",
    "fig = plt.figure(figsize=(12,8))\n",
    "ax = fig.add_subplot(111)\n",
    "ax.set_title('')\n",
    "\n",
    "ax.plot(temp_list-273.15,G_Narayanan_list, label=r\"Narayanan $D_v$\", linestyle='dashed')\n",
    "ax.plot(temp_list-273.15,G_Vasiliev_list, label=\"Vasiliev\", linestyle='dashed')\n",
    "#ax.plot(temp_list-273.15,G_Mette_list, label=\"Mette\", linestyle='dashed')\n",
    "ax.plot(temp_list-273.15,G_Knudsen_list, label=\"Knudsen\", linestyle='dashed')\n",
    "ax.plot(temp_list-273.15,G_Ambrozek_list, label=\"Ambrozek\", linestyle='dashed')\n",
    "\n",
    "plt.xticks(fontsize=14 )\n",
    "plt.yticks(fontsize=14 )\n",
    "ax.set_xlabel(r' T /$C^\\circ$',fontsize=16)\n",
    "ax.set_ylabel(r'G  ',fontsize=16)\n",
    "ax.set_xlim(10,60) #return to zero after chain 50 computed.\n",
    "ax.set_ylim(-.0050,0.03)\n",
    "ax.plot()\n",
    "ax.legend(fontsize=12)  \n",
    "fig.savefig('De.png')\n",
    "plt.show()\n",
    "\n"
   ]
  },
  {
   "cell_type": "code",
   "execution_count": null,
   "metadata": {},
   "outputs": [],
   "source": []
  },
  {
   "cell_type": "code",
   "execution_count": 8,
   "metadata": {},
   "outputs": [],
   "source": [
    "#Unused\n",
    "def Kim(t): # Effective Vapor Intercrystalline Diffusivity ()\n",
    "    Eu = Constant(2.8035e4) #Activation Energy for surface diffusion [J/mol]\n",
    "    Du0 = Constant(5.0e-16) #Intracrystalline Gas Diffusivity at T0 [m2/s]    \n",
    "    T0 = 300\n",
    "    D_vap = 0#Vapour molecular diffusivity in air\n",
    "    D_k_vap = (dp/3)*pow(8*Rg*t/(3.14*vap_mg),1/2) #Knudsen Diffusivity of vapor \n",
    "    return pow(eps,3/2)*pow(1/D_vap + 1/D_k_vap ,-1)\n",
    "\n",
    "def DAB(t):\n",
    "    sigma_a =1\n",
    "    sigma_b =1\n",
    "    sigma_ab = .5*(sigma_a*sigma_b)\n",
    "    omega_d = 1\n",
    "    M_a = 1\n",
    "    M_b = 1\n",
    "    return 0.001858*pow(t,3/2)/(patm*pow(sigma_ab,2)*omega_d )*pow((1/M_a+1/M_b),1/2) #[cm2/s]\n",
    "def Chan(t):\n",
    "    Du0 = Constant(3.92e-6) # [m2/s] Chan (2012)\n",
    "    #Du0 = Constant(5.0e-16)\n",
    "    Ea = Constant(2.8035e4) # Activation Energy for surface diffusion [J/mol]\n",
    "    ads_rps = Constant(2e-6)/2\n",
    "    Ks0 = 15* Du0 / pow(ads_rps,2) \n",
    "    return Ks0 * exp(-Ea/(Rg*t))\n",
    "\n",
    "def Narayanan2(t): #Effective Vapor Intercrystalline Diffusivity (2017)\n",
    "    return 15*Dc/pow(ads_rps,2)\n"
   ]
  }
 ],
 "metadata": {
  "kernelspec": {
   "display_name": "Python 3 (ipykernel)",
   "language": "python",
   "name": "python3"
  },
  "language_info": {
   "codemirror_mode": {
    "name": "ipython",
    "version": 3
   },
   "file_extension": ".py",
   "mimetype": "text/x-python",
   "name": "python",
   "nbconvert_exporter": "python",
   "pygments_lexer": "ipython3",
   "version": "3.8.10"
  }
 },
 "nbformat": 4,
 "nbformat_minor": 2
}
