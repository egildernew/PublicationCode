{
 "cells": [
  {
   "cell_type": "markdown",
   "metadata": {},
   "source": [
    "Permeability: 1-KozenyCarmanTortuosity Sahoo, 2-KozenyCarmanTortuosity Amigo, 3-K-C Porosity Narayanan, 4-KozenyCarmanKozenyConstant"
   ]
  },
  {
   "cell_type": "code",
   "execution_count": 3,
   "metadata": {},
   "outputs": [
    {
     "data": {
      "text/html": [
       "<style>.container { width:100% !important; }</style>"
      ],
      "text/plain": [
       "<IPython.core.display.HTML object>"
      ]
     },
     "metadata": {},
     "output_type": "display_data"
    }
   ],
   "source": [
    "from IPython.core.display import display, HTML\n",
    "display(HTML(\"<style>.container { width:100% !important; }</style>\"))\n",
    "from math import exp\n",
    "import numpy as np\n",
    "import pandas as pd\n",
    "\n",
    "#The following allow direct FEniCS code into python scripts.\n",
    "\n",
    "def ln(input):\n",
    "    return np.log(input)\n",
    "\n",
    "def Constant(constant):\n",
    "    return constant\n",
    "\n",
    "#Import the specifications\n",
    "from inputs import *"
   ]
  },
  {
   "cell_type": "code",
   "execution_count": 4,
   "metadata": {},
   "outputs": [
    {
     "name": "stdout",
     "output_type": "stream",
     "text": [
      "4.550991915475779e-15 4.740616578620604e-15 4.550991915475779e-15 3.9505138155171706e-15\n"
     ]
    }
   ],
   "source": [
    "# Option 1\n",
    "KC_Tort =  (Constant(2)*pow(ads_ema,3)*pow(ads_rps,2) ) / (Constant(75)*pow(Constant(1)-ads_ema,2)) # K-C no constants Sahoo,Narayanan\n",
    "\n",
    "#Option 2\n",
    "KC_Tort_Amigo = (2*pow(ads_dps,2)*pow(ads_ema,3)) / (Constant(72)*ads_tort*(pow((1-ads_ema),2))) #K-C using Tortuosity, Amigo\n",
    "\n",
    "#Option 3\n",
    "KC_EffEpsilon = Constant(2)*pow(ads_rps,2)*pow(ads_ema,3) / (Constant(75)*pow((Constant(1)-ads_ema),2)) #S. Narayanan, using Effective epsilon\n",
    "\n",
    "#Option 4\n",
    "KC_Kconst = pow(ads_dps,2)*pow(ads_ema,3) / (36*kozeny_c*pow((1-ads_ema),2)) #K-C using Kozeny constant\n",
    "\n",
    "print(KC_Tort,KC_Tort_Amigo,KC_EffEpsilon,KC_Kconst)"
   ]
  }
 ],
 "metadata": {
  "kernelspec": {
   "display_name": "Python 3 (ipykernel)",
   "language": "python",
   "name": "python3"
  },
  "language_info": {
   "codemirror_mode": {
    "name": "ipython",
    "version": 3
   },
   "file_extension": ".py",
   "mimetype": "text/x-python",
   "name": "python",
   "nbconvert_exporter": "python",
   "pygments_lexer": "ipython3",
   "version": "3.8.10"
  }
 },
 "nbformat": 4,
 "nbformat_minor": 2
}
