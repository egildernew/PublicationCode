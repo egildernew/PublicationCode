{
 "cells": [
  {
   "cell_type": "code",
   "execution_count": 1,
   "metadata": {},
   "outputs": [
    {
     "data": {
      "text/html": [
       "<style>.container { width:100% !important; }</style>"
      ],
      "text/plain": [
       "<IPython.core.display.HTML object>"
      ]
     },
     "metadata": {},
     "output_type": "display_data"
    }
   ],
   "source": [
    "import pandas as pd\n",
    "import numpy as np\n",
    "import os\n",
    "import csv\n",
    "from csv import reader\n",
    "import matplotlib.pyplot as plt\n",
    "import seaborn as sns"
   ]
  },
  {
   "cell_type": "code",
   "execution_count": 2,
   "metadata": {},
   "outputs": [],
   "source": [
    "#Function to identify property of study based on filename\n",
    "'''\n",
    "AdsorptionDensityEquilibrium: 1-Ambrozek, 2-Toth-Narayanan 3- Toth-Ferreira 4-DA-Ferreira 5-DA Sahoo\n",
    "HeatOfAdsorption: 1-Function of Uptake, 2-VantHoff (Broken)\n",
    "MassTransferCoefficients: 1-Vasilev (Sahoo), 2-Knudsen (Narayan)\n",
    "Permeability: 1-KozenyCarmanTortuosity Sahoo, 2-KozenyCarmanTortuosity Amigo, 3-K-C Effective Porosity,4-KozenyCarmanKozenyConstant\n",
    "ThermalConductivities: 1-Sahoo, 2-MaxwellEucken, 3-ZehnderSchlunder\n",
    "LocalAdsorbedGasDensity: 1-Mugele, 2-Hauer, 3-Osawa/Sahoo, 4Ambrozek\n",
    "The function can be called with the following two lines: \n",
    "\n",
    "trial = data.columns[1]\n",
    "Qeq, DelH, Gvar, Keff, keff, rhoads_t = id_inputs(trial)\n",
    "\n",
    "'''\n",
    "\n",
    "def id_inputs(trial):\n",
    "    split = trial.split('_')\n",
    "    if split[0] == '1': #AdsorptionDensityEquilibrium\n",
    "        Qeq = 'Ambrozek'\n",
    "    elif split[0] == '2':\n",
    "        Qeq = 'Toth - Narayanan'\n",
    "    elif split[0] == '3':\n",
    "        Qeq = 'Toth - Ferreira'\n",
    "    elif split[0] == '4':\n",
    "        Qeq = 'DA - Ferreira'\n",
    "    elif split[0] == '5':\n",
    "        Qeq = 'DA - Sahoo'\n",
    "    if split[1] == '1': #Heat of Adsoprtion\n",
    "        DelH = 'Uptake Function'\n",
    "    elif split[1] == '2':\n",
    "        DelH = 'VH'\n",
    "    if split[2] == '1': #Mass Transfer Coefficient\n",
    "        Gvar = 'Vasilev'\n",
    "    elif split[2] == '2':\n",
    "        Gvar = 'Knudsen'\n",
    "    if split[3] == '1': #Permeabilities\n",
    "        Keff = 'K-C - Sahoo'\n",
    "    elif split[3] == '2':\n",
    "        Keff = 'K-C w/ Tc A '\n",
    "    elif split[3] == '3':\n",
    "        Keff = 'K-C w/ Effective Porosity'\n",
    "    elif split[3] == '4':\n",
    "        Keff = 'K-C w/ kozeny Constant'\n",
    "    if split[4] == '1': #ThermalConductivities\n",
    "        keff = 'Sahoo'\n",
    "    elif split[4] == '2':\n",
    "        keff = 'ME'\n",
    "    elif split[4] == '3':\n",
    "        keff = 'ZS'\n",
    "    if split[5] == '1': #Local Adsorbed Vapor Density\n",
    "        rhoads_t = \"Mugele\"\n",
    "    if split[5] == '2':\n",
    "        rhoads_t = \"Hauer\"\n",
    "    if split[5] == '3':\n",
    "        rhoads_t = \"Osawa/Sahoo\"\n",
    "    if split[5] == '4':\n",
    "        rhoads_t = \"Ambrozek\"\n",
    "    return Qeq, DelH, Gvar, Keff, keff, rhoads_t"
   ]
  },
  {
   "cell_type": "code",
   "execution_count": 3,
   "metadata": {},
   "outputs": [],
   "source": [
    "fileList = os.listdir('postanalysis') #Read files in folder into list \n",
    "for file in fileList: #Loop through list of files using file as identifier\n",
    "    path = 'postanalysis/' \n",
    "    if file == fileList[0]:\n",
    "        data = pd.read_csv(path+file, delimiter=\"\\n\" ,header=None) #Creates dataframe of proper length from first read data\n",
    "        \n",
    "        data.columns=[file[:-4]] #Creates column name from file name minus extension\n",
    "    else:\n",
    "        nextReadData = pd.read_csv(path+file, delimiter=\"\\n\" ,header=None)\n",
    "        nextReadData.columns=[file[:-4]]\n",
    "        data = pd.concat([data,nextReadData], axis=1)\n",
    "\n",
    "#The following subtracts initial from all measurements\n",
    "data.iloc[1:len(data)] = data.iloc[:len(data)] - data.iloc[0]\n",
    "data.iloc[0] = data.iloc[0] - data.iloc[0]\n"
   ]
  },
  {
   "cell_type": "code",
   "execution_count": 4,
   "metadata": {},
   "outputs": [],
   "source": [
    "chartx = []\n",
    "charty = []\n",
    "for i in data.columns:\n",
    "    del_name = i.split(\"_\")\n",
    "    #invdt =  del_name[7] #These are assuming there is erroneous _f in file name\n",
    "    #invdx = del_name[8] #These are assuming there is erroneous _f in file name\n",
    "    nx_id = del_name[10]\n",
    "    coldata = data[i]\n",
    "    lastvalidindex = coldata.last_valid_index()\n",
    "    uptake = float(coldata[lastvalidindex])\n",
    "    #print(nx_id,uptake)\n",
    "    charty.append(float(uptake))\n",
    "    #chartx.append(float(invdx))\n",
    "    chartx.append(int(nx_id))    \n"
   ]
  },
  {
   "cell_type": "code",
   "execution_count": 19,
   "metadata": {},
   "outputs": [
    {
     "data": {
      "image/png": "[encoded data removed]",
      "text/plain": [
       "<Figure size 432x288 with 1 Axes>"
      ]
     },
     "metadata": {
      "needs_background": "light"
     },
     "output_type": "display_data"
    }
   ],
   "source": [
    "import matplotlib.pyplot as plt\n",
    "\n",
    "chartx, charty = zip(*sorted(zip(chartx,charty)))\n",
    "\n",
    "fig = plt.figure(figsize=(6,4))\n",
    "ax = fig.add_subplot(111)\n",
    "ax.set_title('')\n",
    "#left, bottom, width, height = [0.2, 0.25, 0.3, 0.3] #Position of inset\n",
    "\n",
    "#ax.scatter(chartx,charty, label=\"Convergence\")\n",
    "ax.plot(chartx,charty, label=\"Convergence\", linestyle='dashed')\n",
    "ax.scatter(chartx,charty, label=\"Convergence\", linestyle='dashed')\n",
    "#ax.set_ylim([1.0e-12,30e-11])\n",
    "ax.set_xlabel('Number of Spatial Steps', fontsize=16)\n",
    "ax.set_ylabel('Vapor Mass Adsorbed (kg)', fontsize=16)\n",
    "#plt.axvline(.3, linewidth=2, color=\"black\")\n",
    "#plt.annotate('Capillary Condensation', xy =(0.302,10))\n",
    "plt.xticks(fontsize=14 )\n",
    "plt.yticks(fontsize=14 )\n",
    "ax.plot()\n",
    "#ax.legend()   \n",
    "fig.savefig('convdx.png')\n",
    "plt.show()   "
   ]
  },
  {
   "cell_type": "code",
   "execution_count": null,
   "metadata": {},
   "outputs": [],
   "source": []
  }
 ],
 "metadata": {
  "kernelspec": {
   "display_name": "Python 3 (ipykernel)",
   "language": "python",
   "name": "python3"
  },
  "language_info": {
   "codemirror_mode": {
    "name": "ipython",
    "version": 3
   },
   "file_extension": ".py",
   "mimetype": "text/x-python",
   "name": "python",
   "nbconvert_exporter": "python",
   "pygments_lexer": "ipython3",
   "version": "3.8.10"
  }
 },
 "nbformat": 4,
 "nbformat_minor": 2
}
